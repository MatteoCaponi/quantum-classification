{
 "cells": [
  {
   "cell_type": "code",
   "execution_count": 1,
   "id": "368ffe2b",
   "metadata": {},
   "outputs": [],
   "source": [
    "import pandas as pd\n",
    "import numpy as np \n",
    "import matplotlib.pyplot as plt\n",
    "import seaborn as sns"
   ]
  },
  {
   "cell_type": "code",
   "execution_count": 2,
   "id": "14beb3c7",
   "metadata": {},
   "outputs": [],
   "source": [
    "from sklearn.preprocessing import StandardScaler, MinMaxScaler\n",
    "from sklearn.model_selection import train_test_split\n",
    "import timeit"
   ]
  },
  {
   "cell_type": "code",
   "execution_count": 3,
   "id": "0d91d554",
   "metadata": {},
   "outputs": [],
   "source": [
    "from sklearn.svm import SVC\n",
    "from sklearn.model_selection import RandomizedSearchCV\n",
    "from sklearn.model_selection import GridSearchCV\n",
    "from sklearn.model_selection import KFold\n",
    "from sklearn.metrics import accuracy_score"
   ]
  },
  {
   "cell_type": "code",
   "execution_count": 4,
   "id": "d1caa42d",
   "metadata": {},
   "outputs": [],
   "source": [
    "df = pd.read_csv('data.csv')"
   ]
  },
  {
   "cell_type": "code",
   "execution_count": 5,
   "id": "574c56a8",
   "metadata": {},
   "outputs": [],
   "source": [
    "df.set_index('Depth', inplace=True)"
   ]
  },
  {
   "cell_type": "code",
   "execution_count": 6,
   "id": "20c60cf9",
   "metadata": {},
   "outputs": [],
   "source": [
    "df['log_RT'] = np.log(df['RT'])"
   ]
  },
  {
   "cell_type": "code",
   "execution_count": 7,
   "id": "c6e5211c",
   "metadata": {},
   "outputs": [],
   "source": [
    "df = df[df['GR']<250]"
   ]
  },
  {
   "cell_type": "code",
   "execution_count": 8,
   "id": "c43ff4af",
   "metadata": {},
   "outputs": [],
   "source": [
    "data = df[['GR','RHOB','NPHI','Facies']]"
   ]
  },
  {
   "cell_type": "code",
   "execution_count": 9,
   "id": "e0901408",
   "metadata": {},
   "outputs": [],
   "source": [
    "size = 60"
   ]
  },
  {
   "cell_type": "code",
   "execution_count": 10,
   "id": "dae8926e",
   "metadata": {},
   "outputs": [],
   "source": [
    "train_scores = []\n",
    "test_scores = []\n",
    "time =[]"
   ]
  },
  {
   "cell_type": "code",
   "execution_count": 11,
   "id": "cbeea17e",
   "metadata": {},
   "outputs": [],
   "source": [
    "#1st run"
   ]
  },
  {
   "cell_type": "code",
   "execution_count": 12,
   "id": "2beb64b9",
   "metadata": {},
   "outputs": [],
   "source": [
    "s1 = data[data.Facies == 'SH'].sample(n=int(size/3))\n",
    "s2 = data[data.Facies == 'SS'].sample(n=int(size/3))\n",
    "s3 = data[data.Facies == 'CB'].sample(n=int(size/3))\n",
    "sample = pd.concat([s1,s2])\n",
    "sample.sort_index(inplace=True)"
   ]
  },
  {
   "cell_type": "code",
   "execution_count": 13,
   "id": "2ddd4c78",
   "metadata": {},
   "outputs": [],
   "source": [
    "features = sample.iloc[:,:-1]\n",
    "target = sample.iloc[:,-1]"
   ]
  },
  {
   "cell_type": "code",
   "execution_count": 14,
   "id": "7fea5f74",
   "metadata": {},
   "outputs": [],
   "source": [
    "f_f = MinMaxScaler().fit_transform(features)"
   ]
  },
  {
   "cell_type": "code",
   "execution_count": 15,
   "id": "62a0966f",
   "metadata": {},
   "outputs": [],
   "source": [
    "X_train, X_test, y_train, y_test = train_test_split(f_f, target, test_size = 0.3)"
   ]
  },
  {
   "cell_type": "code",
   "execution_count": 16,
   "id": "36075083",
   "metadata": {},
   "outputs": [],
   "source": [
    "cv = KFold(n_splits=3, shuffle = True)"
   ]
  },
  {
   "cell_type": "code",
   "execution_count": 17,
   "id": "b05c0aaf",
   "metadata": {},
   "outputs": [
    {
     "name": "stdout",
     "output_type": "stream",
     "text": [
      "{'kernel': 'rbf', 'gamma': 'auto', 'C': 1}\n",
      "Mean Accuracy score for this prediction is 1.0\n"
     ]
    }
   ],
   "source": [
    "model = SVC(kernel='linear', C=1, gamma=1)\n",
    "\n",
    "param_grid = {'C':[0.1,1,10,100],'kernel':['linear','poly','sigmoid','rbf'],\n",
    "              'gamma':['scale','auto',0.001,0.01,0.1,1]}\n",
    "\n",
    "grid = RandomizedSearchCV(model, param_grid, cv=cv, scoring='accuracy', n_iter=50, n_jobs=-1)\n",
    "grid.fit(X_train, y_train)\n",
    "y_pred_test = grid.predict(X_test)\n",
    "y_pred_train = grid.predict(X_train)\n",
    "train_scores.append(accuracy_score(y_train, y_pred_train))\n",
    "test_scores.append(accuracy_score(y_test, y_pred_test))\n",
    "print(grid.best_params_)\n",
    "print('Mean Accuracy score for this prediction is {}'.format(grid.best_score_))"
   ]
  },
  {
   "cell_type": "code",
   "execution_count": 18,
   "id": "37bb3712",
   "metadata": {},
   "outputs": [],
   "source": [
    "# 2nd run"
   ]
  },
  {
   "cell_type": "code",
   "execution_count": 19,
   "id": "c267373a",
   "metadata": {},
   "outputs": [
    {
     "name": "stdout",
     "output_type": "stream",
     "text": [
      "{'kernel': 'poly', 'gamma': 1, 'C': 10}\n",
      "Mean Accuracy score for this prediction is 0.9296296296296296\n"
     ]
    }
   ],
   "source": [
    "s1 = data[data.Facies == 'SH'].sample(n=int(size/3))\n",
    "s2 = data[data.Facies == 'SS'].sample(n=int(size/3))\n",
    "s3 = data[data.Facies == 'CB'].sample(n=int(size/3))\n",
    "sample = pd.concat([s1,s2])\n",
    "sample.sort_index(inplace=True)\n",
    "features = sample.iloc[:,:-1]\n",
    "target = sample.iloc[:,-1]\n",
    "f_f = MinMaxScaler().fit_transform(features)\n",
    "X_train, X_test, y_train, y_test = train_test_split(f_f, target, test_size = 0.3)\n",
    "cv = KFold(n_splits=3, shuffle = True)\n",
    "model = SVC(kernel='linear', C=1, gamma=1)\n",
    "\n",
    "param_grid = {'C':[0.1,1,10,100],'kernel':['linear','poly','sigmoid','rbf'],\n",
    "              'gamma':['scale','auto',0.001,0.01,0.1,1]}\n",
    "\n",
    "grid = RandomizedSearchCV(model, param_grid, cv=cv, scoring='accuracy', n_iter=50, n_jobs=-1)\n",
    "grid.fit(X_train, y_train)\n",
    "y_pred_test = grid.predict(X_test)\n",
    "y_pred_train = grid.predict(X_train)\n",
    "train_scores.append(accuracy_score(y_train, y_pred_train))\n",
    "test_scores.append(accuracy_score(y_test, y_pred_test))\n",
    "print(grid.best_params_)\n",
    "print('Mean Accuracy score for this prediction is {}'.format(grid.best_score_))"
   ]
  },
  {
   "cell_type": "code",
   "execution_count": 20,
   "id": "de81fadf",
   "metadata": {},
   "outputs": [],
   "source": [
    "# 3rd run"
   ]
  },
  {
   "cell_type": "code",
   "execution_count": 21,
   "id": "d427d00c",
   "metadata": {},
   "outputs": [
    {
     "name": "stdout",
     "output_type": "stream",
     "text": [
      "{'kernel': 'linear', 'gamma': 0.01, 'C': 100}\n",
      "Mean Accuracy score for this prediction is 0.9296296296296296\n"
     ]
    }
   ],
   "source": [
    "s1 = data[data.Facies == 'SH'].sample(n=int(size/3))\n",
    "s2 = data[data.Facies == 'SS'].sample(n=int(size/3))\n",
    "s3 = data[data.Facies == 'CB'].sample(n=int(size/3))\n",
    "sample = pd.concat([s1,s2])\n",
    "sample.sort_index(inplace=True)\n",
    "features = sample.iloc[:,:-1]\n",
    "target = sample.iloc[:,-1]\n",
    "f_f = MinMaxScaler().fit_transform(features)\n",
    "X_train, X_test, y_train, y_test = train_test_split(f_f, target, test_size = 0.3)\n",
    "cv = KFold(n_splits=3, shuffle = True)\n",
    "model = SVC(kernel='linear', C=1, gamma=1)\n",
    "\n",
    "param_grid = {'C':[0.1,1,10,100],'kernel':['linear','poly','sigmoid','rbf'],\n",
    "              'gamma':['scale','auto',0.001,0.01,0.1,1]}\n",
    "\n",
    "grid = RandomizedSearchCV(model, param_grid, cv=cv, scoring='accuracy', n_iter=50, n_jobs=-1)\n",
    "grid.fit(X_train, y_train)\n",
    "y_pred_test = grid.predict(X_test)\n",
    "y_pred_train = grid.predict(X_train)\n",
    "train_scores.append(accuracy_score(y_train, y_pred_train))\n",
    "test_scores.append(accuracy_score(y_test, y_pred_test))\n",
    "print(grid.best_params_)\n",
    "print('Mean Accuracy score for this prediction is {}'.format(grid.best_score_))"
   ]
  },
  {
   "cell_type": "code",
   "execution_count": 22,
   "id": "e09c0223",
   "metadata": {},
   "outputs": [],
   "source": [
    "# 4th run"
   ]
  },
  {
   "cell_type": "code",
   "execution_count": 23,
   "id": "130c0785",
   "metadata": {},
   "outputs": [
    {
     "name": "stdout",
     "output_type": "stream",
     "text": [
      "{'kernel': 'sigmoid', 'gamma': 1, 'C': 100}\n",
      "Mean Accuracy score for this prediction is 1.0\n"
     ]
    }
   ],
   "source": [
    "s1 = data[data.Facies == 'SH'].sample(n=int(size/3))\n",
    "s2 = data[data.Facies == 'SS'].sample(n=int(size/3))\n",
    "s3 = data[data.Facies == 'CB'].sample(n=int(size/3))\n",
    "sample = pd.concat([s1,s2])\n",
    "sample.sort_index(inplace=True)\n",
    "features = sample.iloc[:,:-1]\n",
    "target = sample.iloc[:,-1]\n",
    "f_f = MinMaxScaler().fit_transform(features)\n",
    "X_train, X_test, y_train, y_test = train_test_split(f_f, target, test_size = 0.3)\n",
    "cv = KFold(n_splits=3, shuffle = True)\n",
    "model = SVC(kernel='linear', C=1, gamma=1)\n",
    "\n",
    "param_grid = {'C':[0.1,1,10,100],'kernel':['linear','poly','sigmoid','rbf'],\n",
    "              'gamma':['scale','auto',0.001,0.01,0.1,1]}\n",
    "\n",
    "grid = RandomizedSearchCV(model, param_grid, cv=cv, scoring='accuracy', n_iter=50, n_jobs=-1)\n",
    "grid.fit(X_train, y_train)\n",
    "y_pred_test = grid.predict(X_test)\n",
    "y_pred_train = grid.predict(X_train)\n",
    "train_scores.append(accuracy_score(y_train, y_pred_train))\n",
    "test_scores.append(accuracy_score(y_test, y_pred_test))\n",
    "print(grid.best_params_)\n",
    "print('Mean Accuracy score for this prediction is {}'.format(grid.best_score_))"
   ]
  },
  {
   "cell_type": "code",
   "execution_count": 24,
   "id": "2149c147",
   "metadata": {},
   "outputs": [],
   "source": [
    "#5th run"
   ]
  },
  {
   "cell_type": "code",
   "execution_count": 25,
   "id": "f0a30419",
   "metadata": {},
   "outputs": [
    {
     "name": "stdout",
     "output_type": "stream",
     "text": [
      "{'kernel': 'linear', 'gamma': 0.1, 'C': 100}\n",
      "Mean Accuracy score for this prediction is 1.0\n"
     ]
    }
   ],
   "source": [
    "s1 = data[data.Facies == 'SH'].sample(n=int(size/3))\n",
    "s2 = data[data.Facies == 'SS'].sample(n=int(size/3))\n",
    "s3 = data[data.Facies == 'CB'].sample(n=int(size/3))\n",
    "sample = pd.concat([s1,s2])\n",
    "sample.sort_index(inplace=True)\n",
    "features = sample.iloc[:,:-1]\n",
    "target = sample.iloc[:,-1]\n",
    "f_f = MinMaxScaler().fit_transform(features)\n",
    "X_train, X_test, y_train, y_test = train_test_split(f_f, target, test_size = 0.3)\n",
    "cv = KFold(n_splits=3, shuffle = True)\n",
    "model = SVC(kernel='linear', C=1, gamma=1)\n",
    "\n",
    "param_grid = {'C':[0.1,1,10,100],'kernel':['linear','poly','sigmoid','rbf'],\n",
    "              'gamma':['scale','auto',0.001,0.01,0.1,1]}\n",
    "\n",
    "grid = RandomizedSearchCV(model, param_grid, cv=cv, scoring='accuracy', n_iter=50, n_jobs=-1)\n",
    "grid.fit(X_train, y_train)\n",
    "y_pred_test = grid.predict(X_test)\n",
    "y_pred_train = grid.predict(X_train)\n",
    "train_scores.append(accuracy_score(y_train, y_pred_train))\n",
    "test_scores.append(accuracy_score(y_test, y_pred_test))\n",
    "print(grid.best_params_)\n",
    "print('Mean Accuracy score for this prediction is {}'.format(grid.best_score_))"
   ]
  },
  {
   "cell_type": "code",
   "execution_count": 26,
   "id": "286838dd",
   "metadata": {},
   "outputs": [],
   "source": [
    "#6th run"
   ]
  },
  {
   "cell_type": "code",
   "execution_count": 27,
   "id": "94ac59c8",
   "metadata": {},
   "outputs": [
    {
     "name": "stdout",
     "output_type": "stream",
     "text": [
      "{'kernel': 'linear', 'gamma': 'auto', 'C': 10}\n",
      "Mean Accuracy score for this prediction is 0.9296296296296296\n"
     ]
    }
   ],
   "source": [
    "s1 = data[data.Facies == 'SH'].sample(n=int(size/3))\n",
    "s2 = data[data.Facies == 'SS'].sample(n=int(size/3))\n",
    "s3 = data[data.Facies == 'CB'].sample(n=int(size/3))\n",
    "sample = pd.concat([s1,s2])\n",
    "sample.sort_index(inplace=True)\n",
    "features = sample.iloc[:,:-1]\n",
    "target = sample.iloc[:,-1]\n",
    "f_f = MinMaxScaler().fit_transform(features)\n",
    "X_train, X_test, y_train, y_test = train_test_split(f_f, target, test_size = 0.3)\n",
    "cv = KFold(n_splits=3, shuffle = True)\n",
    "model = SVC(kernel='linear', C=1, gamma=1)\n",
    "\n",
    "param_grid = {'C':[0.1,1,10,100],'kernel':['linear','poly','sigmoid','rbf'],\n",
    "              'gamma':['scale','auto',0.001,0.01,0.1,1]}\n",
    "\n",
    "grid = RandomizedSearchCV(model, param_grid, cv=cv, scoring='accuracy', n_iter=50, n_jobs=-1)\n",
    "grid.fit(X_train, y_train)\n",
    "y_pred_test = grid.predict(X_test)\n",
    "y_pred_train = grid.predict(X_train)\n",
    "train_scores.append(accuracy_score(y_train, y_pred_train))\n",
    "test_scores.append(accuracy_score(y_test, y_pred_test))\n",
    "print(grid.best_params_)\n",
    "print('Mean Accuracy score for this prediction is {}'.format(grid.best_score_))"
   ]
  },
  {
   "cell_type": "code",
   "execution_count": 28,
   "id": "19e6bb58",
   "metadata": {},
   "outputs": [],
   "source": [
    "# 7th run"
   ]
  },
  {
   "cell_type": "code",
   "execution_count": 29,
   "id": "e528ac84",
   "metadata": {},
   "outputs": [
    {
     "name": "stdout",
     "output_type": "stream",
     "text": [
      "{'kernel': 'sigmoid', 'gamma': 1, 'C': 10}\n",
      "Mean Accuracy score for this prediction is 0.9333333333333332\n"
     ]
    }
   ],
   "source": [
    "s1 = data[data.Facies == 'SH'].sample(n=int(size/3))\n",
    "s2 = data[data.Facies == 'SS'].sample(n=int(size/3))\n",
    "s3 = data[data.Facies == 'CB'].sample(n=int(size/3))\n",
    "sample = pd.concat([s1,s2])\n",
    "sample.sort_index(inplace=True)\n",
    "features = sample.iloc[:,:-1]\n",
    "target = sample.iloc[:,-1]\n",
    "f_f = MinMaxScaler().fit_transform(features)\n",
    "X_train, X_test, y_train, y_test = train_test_split(f_f, target, test_size = 0.3)\n",
    "cv = KFold(n_splits=3, shuffle = True)\n",
    "model = SVC(kernel='linear', C=1, gamma=1)\n",
    "\n",
    "param_grid = {'C':[0.1,1,10,100],'kernel':['linear','poly','sigmoid','rbf'],\n",
    "              'gamma':['scale','auto',0.001,0.01,0.1,1]}\n",
    "\n",
    "grid = RandomizedSearchCV(model, param_grid, cv=cv, scoring='accuracy', n_iter=50, n_jobs=-1)\n",
    "grid.fit(X_train, y_train)\n",
    "y_pred_test = grid.predict(X_test)\n",
    "y_pred_train = grid.predict(X_train)\n",
    "train_scores.append(accuracy_score(y_train, y_pred_train))\n",
    "test_scores.append(accuracy_score(y_test, y_pred_test))\n",
    "print(grid.best_params_)\n",
    "print('Mean Accuracy score for this prediction is {}'.format(grid.best_score_))"
   ]
  },
  {
   "cell_type": "code",
   "execution_count": 30,
   "id": "8f631f3b",
   "metadata": {},
   "outputs": [],
   "source": [
    "# 8th run"
   ]
  },
  {
   "cell_type": "code",
   "execution_count": 31,
   "id": "1a74c5d3",
   "metadata": {},
   "outputs": [
    {
     "name": "stdout",
     "output_type": "stream",
     "text": [
      "{'kernel': 'poly', 'gamma': 1, 'C': 10}\n",
      "Mean Accuracy score for this prediction is 1.0\n"
     ]
    }
   ],
   "source": [
    "s1 = data[data.Facies == 'SH'].sample(n=int(size/3))\n",
    "s2 = data[data.Facies == 'SS'].sample(n=int(size/3))\n",
    "s3 = data[data.Facies == 'CB'].sample(n=int(size/3))\n",
    "sample = pd.concat([s1,s2])\n",
    "sample.sort_index(inplace=True)\n",
    "features = sample.iloc[:,:-1]\n",
    "target = sample.iloc[:,-1]\n",
    "f_f = MinMaxScaler().fit_transform(features)\n",
    "X_train, X_test, y_train, y_test = train_test_split(f_f, target, test_size = 0.3)\n",
    "cv = KFold(n_splits=3, shuffle = True)\n",
    "model = SVC(kernel='linear', C=1, gamma=1)\n",
    "\n",
    "param_grid = {'C':[0.1,1,10,100],'kernel':['linear','poly','sigmoid','rbf'],\n",
    "              'gamma':['scale','auto',0.001,0.01,0.1,1]}\n",
    "\n",
    "grid = RandomizedSearchCV(model, param_grid, cv=cv, scoring='accuracy', n_iter=50, n_jobs=-1)\n",
    "grid.fit(X_train, y_train)\n",
    "y_pred_test = grid.predict(X_test)\n",
    "y_pred_train = grid.predict(X_train)\n",
    "train_scores.append(accuracy_score(y_train, y_pred_train))\n",
    "test_scores.append(accuracy_score(y_test, y_pred_test))\n",
    "print(grid.best_params_)\n",
    "print('Mean Accuracy score for this prediction is {}'.format(grid.best_score_))"
   ]
  },
  {
   "cell_type": "code",
   "execution_count": 32,
   "id": "718d7ac9",
   "metadata": {},
   "outputs": [],
   "source": [
    "# 9th run"
   ]
  },
  {
   "cell_type": "code",
   "execution_count": 33,
   "id": "98e55100",
   "metadata": {},
   "outputs": [
    {
     "name": "stdout",
     "output_type": "stream",
     "text": [
      "{'kernel': 'sigmoid', 'gamma': 'auto', 'C': 100}\n",
      "Mean Accuracy score for this prediction is 1.0\n"
     ]
    }
   ],
   "source": [
    "s1 = data[data.Facies == 'SH'].sample(n=int(size/3))\n",
    "s2 = data[data.Facies == 'SS'].sample(n=int(size/3))\n",
    "s3 = data[data.Facies == 'CB'].sample(n=int(size/3))\n",
    "sample = pd.concat([s1,s2])\n",
    "sample.sort_index(inplace=True)\n",
    "features = sample.iloc[:,:-1]\n",
    "target = sample.iloc[:,-1]\n",
    "f_f = MinMaxScaler().fit_transform(features)\n",
    "X_train, X_test, y_train, y_test = train_test_split(f_f, target, test_size = 0.3)\n",
    "cv = KFold(n_splits=3, shuffle = True)\n",
    "model = SVC(kernel='linear', C=1, gamma=1)\n",
    "\n",
    "param_grid = {'C':[0.1,1,10,100],'kernel':['linear','poly','sigmoid','rbf'],\n",
    "              'gamma':['scale','auto',0.001,0.01,0.1,1]}\n",
    "\n",
    "grid = RandomizedSearchCV(model, param_grid, cv=cv, scoring='accuracy', n_iter=50, n_jobs=-1)\n",
    "grid.fit(X_train, y_train)\n",
    "y_pred_test = grid.predict(X_test)\n",
    "y_pred_train = grid.predict(X_train)\n",
    "train_scores.append(accuracy_score(y_train, y_pred_train))\n",
    "test_scores.append(accuracy_score(y_test, y_pred_test))\n",
    "print(grid.best_params_)\n",
    "print('Mean Accuracy score for this prediction is {}'.format(grid.best_score_))"
   ]
  },
  {
   "cell_type": "code",
   "execution_count": 34,
   "id": "dbf3480f",
   "metadata": {},
   "outputs": [],
   "source": [
    "#10th run"
   ]
  },
  {
   "cell_type": "code",
   "execution_count": 35,
   "id": "e7dd5314",
   "metadata": {},
   "outputs": [
    {
     "name": "stdout",
     "output_type": "stream",
     "text": [
      "{'kernel': 'rbf', 'gamma': 1, 'C': 1}\n",
      "Mean Accuracy score for this prediction is 0.8962962962962964\n"
     ]
    }
   ],
   "source": [
    "s1 = data[data.Facies == 'SH'].sample(n=int(size/3))\n",
    "s2 = data[data.Facies == 'SS'].sample(n=int(size/3))\n",
    "s3 = data[data.Facies == 'CB'].sample(n=int(size/3))\n",
    "sample = pd.concat([s1,s2])\n",
    "sample.sort_index(inplace=True)\n",
    "features = sample.iloc[:,:-1]\n",
    "target = sample.iloc[:,-1]\n",
    "f_f = MinMaxScaler().fit_transform(features)\n",
    "X_train, X_test, y_train, y_test = train_test_split(f_f, target, test_size = 0.3)\n",
    "start_time = timeit.default_timer()\n",
    "cv = KFold(n_splits=3, shuffle = True)\n",
    "model = SVC(kernel='linear', C=1, gamma=1)\n",
    "\n",
    "param_grid = {'C':[0.1,1,10,100],'kernel':['linear','poly','sigmoid','rbf'],\n",
    "              'gamma':['scale','auto',0.001,0.01,0.1,1]}\n",
    "\n",
    "grid = RandomizedSearchCV(model, param_grid, cv=cv, scoring='accuracy', n_iter=50, n_jobs=-1)\n",
    "grid.fit(X_train, y_train)\n",
    "y_pred_test = grid.predict(X_test)\n",
    "y_pred_train = grid.predict(X_train)\n",
    "elapsed = timeit.default_timer() - start_time\n",
    "train_scores.append(accuracy_score(y_train, y_pred_train))\n",
    "test_scores.append(accuracy_score(y_test, y_pred_test))\n",
    "time.append(elapsed)\n",
    "print(grid.best_params_)\n",
    "print('Mean Accuracy score for this prediction is {}'.format(grid.best_score_))"
   ]
  },
  {
   "cell_type": "code",
   "execution_count": 36,
   "id": "61e1f32f",
   "metadata": {},
   "outputs": [
    {
     "name": "stdout",
     "output_type": "stream",
     "text": [
      "[1.0, 0.9285714285714286, 1.0, 1.0, 1.0, 0.9642857142857143, 0.9285714285714286, 1.0, 1.0, 0.8928571428571429]\n",
      "[0.9166666666666666, 1.0, 0.9166666666666666, 0.9166666666666666, 1.0, 1.0, 0.8333333333333334, 0.9166666666666666, 0.9166666666666666, 0.6666666666666666]\n",
      "[0.1047901999999965]\n"
     ]
    }
   ],
   "source": [
    "print(train_scores)\n",
    "print(test_scores)\n",
    "print(time)"
   ]
  }
 ],
 "metadata": {
  "kernelspec": {
   "display_name": "Python 3",
   "language": "python",
   "name": "python3"
  },
  "language_info": {
   "codemirror_mode": {
    "name": "ipython",
    "version": 3
   },
   "file_extension": ".py",
   "mimetype": "text/x-python",
   "name": "python",
   "nbconvert_exporter": "python",
   "pygments_lexer": "ipython3",
   "version": "3.8.8"
  }
 },
 "nbformat": 4,
 "nbformat_minor": 5
}
