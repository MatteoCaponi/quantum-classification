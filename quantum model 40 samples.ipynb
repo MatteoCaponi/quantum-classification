{
 "cells": [
  {
   "cell_type": "code",
   "execution_count": 1,
   "id": "c00790b6",
   "metadata": {},
   "outputs": [],
   "source": [
    "import pandas as pd\n",
    "import numpy as np \n",
    "import matplotlib.pyplot as plt\n",
    "import seaborn as sns"
   ]
  },
  {
   "cell_type": "code",
   "execution_count": 2,
   "id": "6fc52c8c",
   "metadata": {},
   "outputs": [],
   "source": [
    "from qiskit import BasicAer\n",
    "from qiskit.circuit.library import ZZFeatureMap\n",
    "from qiskit.utils import QuantumInstance, algorithm_globals\n",
    "from qiskit_machine_learning.algorithms import QSVC\n",
    "from qiskit_machine_learning.kernels import QuantumKernel\n",
    "\n",
    "\n",
    "seed = 12345\n",
    "algorithm_globals.random_seed = seed"
   ]
  },
  {
   "cell_type": "code",
   "execution_count": 3,
   "id": "60b0dad4",
   "metadata": {},
   "outputs": [],
   "source": [
    "from sklearn.preprocessing import StandardScaler, MinMaxScaler\n",
    "from sklearn.model_selection import train_test_split\n",
    "import timeit"
   ]
  },
  {
   "cell_type": "markdown",
   "id": "5f1c09a1",
   "metadata": {},
   "source": [
    "#### Feature Selection"
   ]
  },
  {
   "cell_type": "code",
   "execution_count": 2,
   "id": "df472dab",
   "metadata": {},
   "outputs": [],
   "source": [
    "df = pd.read_csv('data.csv')"
   ]
  },
  {
   "cell_type": "code",
   "execution_count": 3,
   "id": "d0d55cad",
   "metadata": {},
   "outputs": [],
   "source": [
    "df.set_index('Depth', inplace=True)"
   ]
  },
  {
   "cell_type": "code",
   "execution_count": 4,
   "id": "84a71ae4",
   "metadata": {},
   "outputs": [],
   "source": [
    "df['log_RT'] = np.log(df['RT'])"
   ]
  },
  {
   "cell_type": "code",
   "execution_count": 5,
   "id": "05f68a43",
   "metadata": {},
   "outputs": [],
   "source": [
    "df = df[df['GR']<250]"
   ]
  },
  {
   "cell_type": "code",
   "execution_count": 6,
   "id": "08ce900a",
   "metadata": {},
   "outputs": [],
   "source": [
    "data = df[['GR','RHOB','NPHI','Facies']]"
   ]
  },
  {
   "cell_type": "code",
   "execution_count": 7,
   "id": "3d3871b8",
   "metadata": {},
   "outputs": [
    {
     "data": {
      "text/plain": [
       "3108"
      ]
     },
     "execution_count": 7,
     "metadata": {},
     "output_type": "execute_result"
    }
   ],
   "source": [
    "len(data)"
   ]
  },
  {
   "cell_type": "code",
   "execution_count": null,
   "id": "9e9f10ac",
   "metadata": {},
   "outputs": [],
   "source": [
    "data = data[data.Facies != 'CB']"
   ]
  },
  {
   "cell_type": "code",
   "execution_count": 11,
   "id": "549e0a15",
   "metadata": {},
   "outputs": [],
   "source": [
    "#sns.pairplot(data=data, hue='Facies')"
   ]
  },
  {
   "cell_type": "markdown",
   "id": "b078f8c7",
   "metadata": {},
   "source": [
    "### QSVM "
   ]
  },
  {
   "cell_type": "code",
   "execution_count": 12,
   "id": "4ce292af",
   "metadata": {},
   "outputs": [],
   "source": [
    "size = 42"
   ]
  },
  {
   "cell_type": "code",
   "execution_count": 13,
   "id": "6988a12c",
   "metadata": {},
   "outputs": [],
   "source": [
    "# 1st run"
   ]
  },
  {
   "cell_type": "code",
   "execution_count": 14,
   "id": "b4218515",
   "metadata": {},
   "outputs": [],
   "source": [
    "s1 = data[data.Facies == 'SH'].sample(n=int(size/2))\n",
    "s2 = data[data.Facies == 'SS'].sample(n=int(size/2))\n",
    "\n",
    "sample = pd.concat([s1,s2])\n",
    "sample.sort_index(inplace=True)"
   ]
  },
  {
   "cell_type": "code",
   "execution_count": 15,
   "id": "deafaa6b",
   "metadata": {},
   "outputs": [],
   "source": [
    "train_scores = []\n",
    "test_scores = []\n",
    "time = []"
   ]
  },
  {
   "cell_type": "code",
   "execution_count": 16,
   "id": "849a1866",
   "metadata": {},
   "outputs": [],
   "source": [
    "features = sample.iloc[:,:-1]\n",
    "target = sample.iloc[:,-1]"
   ]
  },
  {
   "cell_type": "code",
   "execution_count": 17,
   "id": "3507667e",
   "metadata": {},
   "outputs": [],
   "source": [
    "f_f = MinMaxScaler().fit_transform(features)"
   ]
  },
  {
   "cell_type": "code",
   "execution_count": 18,
   "id": "319b83c8",
   "metadata": {},
   "outputs": [],
   "source": [
    "X_train, X_test, y_train, y_test = train_test_split(f_f, target, test_size = 0.3)"
   ]
  },
  {
   "cell_type": "code",
   "execution_count": 19,
   "id": "ca3b0119",
   "metadata": {},
   "outputs": [],
   "source": [
    "feature_dimension = len(features.columns)\n",
    "\n",
    "feature_map = ZZFeatureMap(feature_dimension=feature_dimension,\n",
    "                                 reps=2,entanglement='full')\n",
    "\n",
    "backend = QuantumInstance(BasicAer.get_backend('qasm_simulator'), shots=500,\n",
    "                                seed_simulator=seed, seed_transpiler=seed)\n",
    "\n",
    "kernel = QuantumKernel(feature_map=feature_map, quantum_instance=backend)\n"
   ]
  },
  {
   "cell_type": "code",
   "execution_count": 20,
   "id": "5bf3cfcc",
   "metadata": {},
   "outputs": [
    {
     "name": "stdout",
     "output_type": "stream",
     "text": [
      "QSVC classification train score: 1.0\n",
      "QSVC classification test score: 0.8333333333333334\n",
      "Running time: 17.91278059999999 seconds\n"
     ]
    }
   ],
   "source": [
    "start_time = timeit.default_timer()\n",
    "qsvc = QSVC(quantum_kernel=kernel)\n",
    "qsvc.fit(X_train, y_train)\n",
    "y_pred = qsvc.predict(X_test)\n",
    "elapsed = timeit.default_timer() - start_time\n",
    "train_s = qsvc.score(X_train, y_train)\n",
    "qsvc_score = qsvc.score(X_test, y_test)\n",
    "train_scores.append(train_s)\n",
    "test_scores.append(qsvc_score)\n",
    "time.append(elapsed)\n",
    "print(f'QSVC classification train score: {train_s}')\n",
    "print(f'QSVC classification test score: {qsvc_score}')\n",
    "print('Running time: {} seconds'.format(elapsed))"
   ]
  },
  {
   "cell_type": "code",
   "execution_count": 21,
   "id": "8b7c10c4",
   "metadata": {},
   "outputs": [],
   "source": [
    "# 2nd run "
   ]
  },
  {
   "cell_type": "code",
   "execution_count": 22,
   "id": "e942433a",
   "metadata": {},
   "outputs": [],
   "source": [
    "s1 = data[data.Facies == 'SH'].sample(n=int(size/2))\n",
    "s2 = data[data.Facies == 'SS'].sample(n=int(size/2))\n",
    "\n",
    "sample = pd.concat([s1,s2])\n",
    "sample.sort_index(inplace=True)"
   ]
  },
  {
   "cell_type": "code",
   "execution_count": 23,
   "id": "2138bc83",
   "metadata": {},
   "outputs": [],
   "source": [
    "features = sample.iloc[:,:-1]\n",
    "target = sample.iloc[:,-1]\n",
    "f_f = MinMaxScaler().fit_transform(features)\n",
    "X_train, X_test, y_train, y_test = train_test_split(f_f, target, test_size = 0.3)"
   ]
  },
  {
   "cell_type": "code",
   "execution_count": 24,
   "id": "38bec46d",
   "metadata": {},
   "outputs": [],
   "source": [
    "feature_dimension = len(features.columns)\n",
    "\n",
    "feature_map = ZZFeatureMap(feature_dimension=feature_dimension,\n",
    "                                 reps=2,entanglement='full')\n",
    "\n",
    "backend = QuantumInstance(BasicAer.get_backend('qasm_simulator'), shots=500,\n",
    "                                seed_simulator=seed, seed_transpiler=seed)\n",
    "\n",
    "kernel = QuantumKernel(feature_map=feature_map, quantum_instance=backend)\n"
   ]
  },
  {
   "cell_type": "code",
   "execution_count": 25,
   "id": "139db4e9",
   "metadata": {},
   "outputs": [
    {
     "name": "stdout",
     "output_type": "stream",
     "text": [
      "QSVC classification train score: 1.0\n",
      "QSVC classification test score: 1.0\n",
      "Running time: 17.9418577 seconds\n"
     ]
    }
   ],
   "source": [
    "start_time = timeit.default_timer()\n",
    "qsvc = QSVC(quantum_kernel=kernel)\n",
    "qsvc.fit(X_train, y_train)\n",
    "y_pred = qsvc.predict(X_test)\n",
    "elapsed = timeit.default_timer() - start_time\n",
    "train_s = qsvc.score(X_train, y_train)\n",
    "qsvc_score = qsvc.score(X_test, y_test)\n",
    "train_scores.append(train_s)\n",
    "test_scores.append(qsvc_score)\n",
    "time.append(elapsed)\n",
    "print(f'QSVC classification train score: {train_s}')\n",
    "print(f'QSVC classification test score: {qsvc_score}')\n",
    "print('Running time: {} seconds'.format(elapsed))"
   ]
  },
  {
   "cell_type": "code",
   "execution_count": 26,
   "id": "50c6e268",
   "metadata": {},
   "outputs": [],
   "source": [
    "# 3rd run "
   ]
  },
  {
   "cell_type": "code",
   "execution_count": 27,
   "id": "6c49674c",
   "metadata": {},
   "outputs": [],
   "source": [
    "s1 = data[data.Facies == 'SH'].sample(n=int(size/2))\n",
    "s2 = data[data.Facies == 'SS'].sample(n=int(size/2))\n",
    "\n",
    "sample = pd.concat([s1,s2])\n",
    "sample.sort_index(inplace=True)"
   ]
  },
  {
   "cell_type": "code",
   "execution_count": 28,
   "id": "e56038f8",
   "metadata": {},
   "outputs": [],
   "source": [
    "features = sample.iloc[:,:-1]\n",
    "target = sample.iloc[:,-1]\n",
    "f_f = MinMaxScaler().fit_transform(features)\n",
    "X_train, X_test, y_train, y_test = train_test_split(f_f, target, test_size = 0.3)"
   ]
  },
  {
   "cell_type": "code",
   "execution_count": 29,
   "id": "3c453f01",
   "metadata": {},
   "outputs": [],
   "source": [
    "feature_dimension = len(features.columns)\n",
    "\n",
    "feature_map = ZZFeatureMap(feature_dimension=feature_dimension,\n",
    "                                 reps=2,entanglement='full')\n",
    "\n",
    "backend = QuantumInstance(BasicAer.get_backend('qasm_simulator'), shots=500,\n",
    "                                seed_simulator=seed, seed_transpiler=seed)\n",
    "\n",
    "kernel = QuantumKernel(feature_map=feature_map, quantum_instance=backend)\n"
   ]
  },
  {
   "cell_type": "code",
   "execution_count": 30,
   "id": "2ae9d487",
   "metadata": {},
   "outputs": [
    {
     "name": "stdout",
     "output_type": "stream",
     "text": [
      "QSVC classification train score: 0.9642857142857143\n",
      "QSVC classification test score: 0.9166666666666666\n",
      "Running time: 17.433088699999985 seconds\n"
     ]
    }
   ],
   "source": [
    "start_time = timeit.default_timer()\n",
    "qsvc = QSVC(quantum_kernel=kernel)\n",
    "qsvc.fit(X_train, y_train)\n",
    "y_pred = qsvc.predict(X_test)\n",
    "elapsed = timeit.default_timer() - start_time\n",
    "train_s = qsvc.score(X_train, y_train)\n",
    "qsvc_score = qsvc.score(X_test, y_test)\n",
    "train_scores.append(train_s)\n",
    "test_scores.append(qsvc_score)\n",
    "time.append(elapsed)\n",
    "print(f'QSVC classification train score: {train_s}')\n",
    "print(f'QSVC classification test score: {qsvc_score}')\n",
    "print('Running time: {} seconds'.format(elapsed))"
   ]
  },
  {
   "cell_type": "code",
   "execution_count": 31,
   "id": "292beba7",
   "metadata": {},
   "outputs": [],
   "source": [
    "# 4th run "
   ]
  },
  {
   "cell_type": "code",
   "execution_count": 32,
   "id": "b54f2346",
   "metadata": {},
   "outputs": [],
   "source": [
    "s1 = data[data.Facies == 'SH'].sample(n=int(size/2))\n",
    "s2 = data[data.Facies == 'SS'].sample(n=int(size/2))\n",
    "\n",
    "sample = pd.concat([s1,s2])\n",
    "sample.sort_index(inplace=True)"
   ]
  },
  {
   "cell_type": "code",
   "execution_count": 33,
   "id": "861d7d04",
   "metadata": {},
   "outputs": [],
   "source": [
    "features = sample.iloc[:,:-1]\n",
    "target = sample.iloc[:,-1]\n",
    "f_f = MinMaxScaler().fit_transform(features)\n",
    "X_train, X_test, y_train, y_test = train_test_split(f_f, target, test_size = 0.3)"
   ]
  },
  {
   "cell_type": "code",
   "execution_count": 34,
   "id": "72599f82",
   "metadata": {},
   "outputs": [],
   "source": [
    "feature_dimension = len(features.columns)\n",
    "\n",
    "feature_map = ZZFeatureMap(feature_dimension=feature_dimension,\n",
    "                                 reps=2,entanglement='full')\n",
    "\n",
    "backend = QuantumInstance(BasicAer.get_backend('qasm_simulator'), shots=500,\n",
    "                                seed_simulator=seed, seed_transpiler=seed)\n",
    "\n",
    "kernel = QuantumKernel(feature_map=feature_map, quantum_instance=backend)"
   ]
  },
  {
   "cell_type": "code",
   "execution_count": 35,
   "id": "35787f11",
   "metadata": {},
   "outputs": [
    {
     "name": "stdout",
     "output_type": "stream",
     "text": [
      "QSVC classification train score: 0.9642857142857143\n",
      "QSVC classification test score: 0.9166666666666666\n",
      "Running time: 17.8867951 seconds\n"
     ]
    }
   ],
   "source": [
    "start_time = timeit.default_timer()\n",
    "qsvc = QSVC(quantum_kernel=kernel)\n",
    "qsvc.fit(X_train, y_train)\n",
    "y_pred = qsvc.predict(X_test)\n",
    "elapsed = timeit.default_timer() - start_time\n",
    "train_s = qsvc.score(X_train, y_train)\n",
    "qsvc_score = qsvc.score(X_test, y_test)\n",
    "train_scores.append(train_s)\n",
    "test_scores.append(qsvc_score)\n",
    "time.append(elapsed)\n",
    "print(f'QSVC classification train score: {train_s}')\n",
    "print(f'QSVC classification test score: {qsvc_score}')\n",
    "print('Running time: {} seconds'.format(elapsed))"
   ]
  },
  {
   "cell_type": "code",
   "execution_count": 36,
   "id": "91b6c0c9",
   "metadata": {},
   "outputs": [],
   "source": [
    "# 5th run "
   ]
  },
  {
   "cell_type": "code",
   "execution_count": 37,
   "id": "d823acd6",
   "metadata": {},
   "outputs": [],
   "source": [
    "s1 = data[data.Facies == 'SH'].sample(n=int(size/2))\n",
    "s2 = data[data.Facies == 'SS'].sample(n=int(size/2))\n",
    "\n",
    "sample = pd.concat([s1,s2])\n",
    "sample.sort_index(inplace=True)"
   ]
  },
  {
   "cell_type": "code",
   "execution_count": 38,
   "id": "22714913",
   "metadata": {},
   "outputs": [],
   "source": [
    "features = sample.iloc[:,:-1]\n",
    "target = sample.iloc[:,-1]\n",
    "f_f = MinMaxScaler().fit_transform(features)\n",
    "X_train, X_test, y_train, y_test = train_test_split(f_f, target, test_size = 0.3)"
   ]
  },
  {
   "cell_type": "code",
   "execution_count": 39,
   "id": "4b9ae39b",
   "metadata": {},
   "outputs": [],
   "source": [
    "feature_dimension = len(features.columns)\n",
    "\n",
    "feature_map = ZZFeatureMap(feature_dimension=feature_dimension,\n",
    "                                 reps=2,entanglement='full')\n",
    "\n",
    "backend = QuantumInstance(BasicAer.get_backend('qasm_simulator'), shots=500,\n",
    "                                seed_simulator=seed, seed_transpiler=seed)\n",
    "\n",
    "kernel = QuantumKernel(feature_map=feature_map, quantum_instance=backend)"
   ]
  },
  {
   "cell_type": "code",
   "execution_count": 40,
   "id": "e5d532c2",
   "metadata": {},
   "outputs": [
    {
     "name": "stdout",
     "output_type": "stream",
     "text": [
      "QSVC classification train score: 0.9642857142857143\n",
      "QSVC classification test score: 0.8333333333333334\n",
      "Running time: 17.203173300000003 seconds\n"
     ]
    }
   ],
   "source": [
    "start_time = timeit.default_timer()\n",
    "qsvc = QSVC(quantum_kernel=kernel)\n",
    "qsvc.fit(X_train, y_train)\n",
    "y_pred = qsvc.predict(X_test)\n",
    "elapsed = timeit.default_timer() - start_time\n",
    "train_s = qsvc.score(X_train, y_train)\n",
    "qsvc_score = qsvc.score(X_test, y_test)\n",
    "train_scores.append(train_s)\n",
    "test_scores.append(qsvc_score)\n",
    "time.append(elapsed)\n",
    "print(f'QSVC classification train score: {train_s}')\n",
    "print(f'QSVC classification test score: {qsvc_score}')\n",
    "print('Running time: {} seconds'.format(elapsed))"
   ]
  },
  {
   "cell_type": "code",
   "execution_count": 41,
   "id": "2aa6b9a5",
   "metadata": {},
   "outputs": [],
   "source": [
    "#6th run "
   ]
  },
  {
   "cell_type": "code",
   "execution_count": 42,
   "id": "f4c0240a",
   "metadata": {},
   "outputs": [
    {
     "name": "stdout",
     "output_type": "stream",
     "text": [
      "QSVC classification train score: 1.0\n",
      "QSVC classification test score: 0.9166666666666666\n",
      "Running time: 17.183314500000023 seconds\n"
     ]
    }
   ],
   "source": [
    "s1 = data[data.Facies == 'SH'].sample(n=int(size/2))\n",
    "s2 = data[data.Facies == 'SS'].sample(n=int(size/2))\n",
    "\n",
    "sample = pd.concat([s1,s2])\n",
    "sample.sort_index(inplace=True)\n",
    "features = sample.iloc[:,:-1]\n",
    "target = sample.iloc[:,-1]\n",
    "f_f = MinMaxScaler().fit_transform(features)\n",
    "X_train, X_test, y_train, y_test = train_test_split(f_f, target, test_size = 0.3)\n",
    "feature_dimension = len(features.columns)\n",
    "\n",
    "feature_map = ZZFeatureMap(feature_dimension=feature_dimension,\n",
    "                                 reps=2,entanglement='full')\n",
    "\n",
    "backend = QuantumInstance(BasicAer.get_backend('qasm_simulator'), shots=500,\n",
    "                                seed_simulator=seed, seed_transpiler=seed)\n",
    "\n",
    "kernel = QuantumKernel(feature_map=feature_map, quantum_instance=backend)\n",
    "start_time = timeit.default_timer()\n",
    "qsvc = QSVC(quantum_kernel=kernel)\n",
    "qsvc.fit(X_train, y_train)\n",
    "y_pred = qsvc.predict(X_test)\n",
    "elapsed = timeit.default_timer() - start_time\n",
    "train_s = qsvc.score(X_train, y_train)\n",
    "qsvc_score = qsvc.score(X_test, y_test)\n",
    "train_scores.append(train_s)\n",
    "test_scores.append(qsvc_score)\n",
    "time.append(elapsed)\n",
    "print(f'QSVC classification train score: {train_s}')\n",
    "print(f'QSVC classification test score: {qsvc_score}')\n",
    "print('Running time: {} seconds'.format(elapsed))"
   ]
  },
  {
   "cell_type": "code",
   "execution_count": 43,
   "id": "c2a5097e",
   "metadata": {},
   "outputs": [],
   "source": [
    "# 7 th run "
   ]
  },
  {
   "cell_type": "code",
   "execution_count": 44,
   "id": "731efc3b",
   "metadata": {},
   "outputs": [
    {
     "name": "stdout",
     "output_type": "stream",
     "text": [
      "QSVC classification train score: 0.9642857142857143\n",
      "QSVC classification test score: 0.6666666666666666\n",
      "Running time: 17.380891899999995 seconds\n"
     ]
    }
   ],
   "source": [
    "s1 = data[data.Facies == 'SH'].sample(n=int(size/2))\n",
    "s2 = data[data.Facies == 'SS'].sample(n=int(size/2))\n",
    "\n",
    "sample = pd.concat([s1,s2])\n",
    "sample.sort_index(inplace=True)\n",
    "features = sample.iloc[:,:-1]\n",
    "target = sample.iloc[:,-1]\n",
    "f_f = MinMaxScaler().fit_transform(features)\n",
    "X_train, X_test, y_train, y_test = train_test_split(f_f, target, test_size = 0.3)\n",
    "feature_dimension = len(features.columns)\n",
    "\n",
    "feature_map = ZZFeatureMap(feature_dimension=feature_dimension,\n",
    "                                 reps=2,entanglement='full')\n",
    "\n",
    "backend = QuantumInstance(BasicAer.get_backend('qasm_simulator'), shots=500,\n",
    "                                seed_simulator=seed, seed_transpiler=seed)\n",
    "\n",
    "kernel = QuantumKernel(feature_map=feature_map, quantum_instance=backend)\n",
    "start_time = timeit.default_timer()\n",
    "qsvc = QSVC(quantum_kernel=kernel)\n",
    "qsvc.fit(X_train, y_train)\n",
    "y_pred = qsvc.predict(X_test)\n",
    "elapsed = timeit.default_timer() - start_time\n",
    "train_s = qsvc.score(X_train, y_train)\n",
    "qsvc_score = qsvc.score(X_test, y_test)\n",
    "train_scores.append(train_s)\n",
    "test_scores.append(qsvc_score)\n",
    "time.append(elapsed)\n",
    "print(f'QSVC classification train score: {train_s}')\n",
    "print(f'QSVC classification test score: {qsvc_score}')\n",
    "print('Running time: {} seconds'.format(elapsed))"
   ]
  },
  {
   "cell_type": "code",
   "execution_count": 45,
   "id": "89e49df1",
   "metadata": {},
   "outputs": [],
   "source": [
    "# 8th run "
   ]
  },
  {
   "cell_type": "code",
   "execution_count": 46,
   "id": "c11b3a88",
   "metadata": {},
   "outputs": [
    {
     "name": "stdout",
     "output_type": "stream",
     "text": [
      "QSVC classification train score: 0.9642857142857143\n",
      "QSVC classification test score: 1.0\n",
      "Running time: 17.92288590000004 seconds\n"
     ]
    }
   ],
   "source": [
    "s1 = data[data.Facies == 'SH'].sample(n=int(size/2))\n",
    "s2 = data[data.Facies == 'SS'].sample(n=int(size/2))\n",
    "\n",
    "sample = pd.concat([s1,s2])\n",
    "sample.sort_index(inplace=True)\n",
    "features = sample.iloc[:,:-1]\n",
    "target = sample.iloc[:,-1]\n",
    "f_f = MinMaxScaler().fit_transform(features)\n",
    "X_train, X_test, y_train, y_test = train_test_split(f_f, target, test_size = 0.3)\n",
    "feature_dimension = len(features.columns)\n",
    "\n",
    "feature_map = ZZFeatureMap(feature_dimension=feature_dimension,\n",
    "                                 reps=2,entanglement='full')\n",
    "\n",
    "backend = QuantumInstance(BasicAer.get_backend('qasm_simulator'), shots=500,\n",
    "                                seed_simulator=seed, seed_transpiler=seed)\n",
    "\n",
    "kernel = QuantumKernel(feature_map=feature_map, quantum_instance=backend)\n",
    "start_time = timeit.default_timer()\n",
    "qsvc = QSVC(quantum_kernel=kernel)\n",
    "qsvc.fit(X_train, y_train)\n",
    "y_pred = qsvc.predict(X_test)\n",
    "elapsed = timeit.default_timer() - start_time\n",
    "train_s = qsvc.score(X_train, y_train)\n",
    "qsvc_score = qsvc.score(X_test, y_test)\n",
    "train_scores.append(train_s)\n",
    "test_scores.append(qsvc_score)\n",
    "time.append(elapsed)\n",
    "print(f'QSVC classification train score: {train_s}')\n",
    "print(f'QSVC classification test score: {qsvc_score}')\n",
    "print('Running time: {} seconds'.format(elapsed))"
   ]
  },
  {
   "cell_type": "code",
   "execution_count": 47,
   "id": "cb9946b9",
   "metadata": {},
   "outputs": [],
   "source": [
    "# 9th run "
   ]
  },
  {
   "cell_type": "code",
   "execution_count": 48,
   "id": "5c38f73d",
   "metadata": {},
   "outputs": [
    {
     "name": "stdout",
     "output_type": "stream",
     "text": [
      "QSVC classification train score: 1.0\n",
      "QSVC classification test score: 0.9166666666666666\n",
      "Running time: 17.31017109999999 seconds\n"
     ]
    }
   ],
   "source": [
    "s1 = data[data.Facies == 'SH'].sample(n=int(size/2))\n",
    "s2 = data[data.Facies == 'SS'].sample(n=int(size/2))\n",
    "\n",
    "sample = pd.concat([s1,s2])\n",
    "sample.sort_index(inplace=True)\n",
    "features = sample.iloc[:,:-1]\n",
    "target = sample.iloc[:,-1]\n",
    "f_f = MinMaxScaler().fit_transform(features)\n",
    "X_train, X_test, y_train, y_test = train_test_split(f_f, target, test_size = 0.3)\n",
    "feature_dimension = len(features.columns)\n",
    "\n",
    "feature_map = ZZFeatureMap(feature_dimension=feature_dimension,\n",
    "                                 reps=2,entanglement='full')\n",
    "\n",
    "backend = QuantumInstance(BasicAer.get_backend('qasm_simulator'), shots=500,\n",
    "                                seed_simulator=seed, seed_transpiler=seed)\n",
    "\n",
    "kernel = QuantumKernel(feature_map=feature_map, quantum_instance=backend)\n",
    "start_time = timeit.default_timer()\n",
    "qsvc = QSVC(quantum_kernel=kernel)\n",
    "qsvc.fit(X_train, y_train)\n",
    "y_pred = qsvc.predict(X_test)\n",
    "elapsed = timeit.default_timer() - start_time\n",
    "train_s = qsvc.score(X_train, y_train)\n",
    "qsvc_score = qsvc.score(X_test, y_test)\n",
    "train_scores.append(train_s)\n",
    "test_scores.append(qsvc_score)\n",
    "time.append(elapsed)\n",
    "print(f'QSVC classification train score: {train_s}')\n",
    "print(f'QSVC classification test score: {qsvc_score}')\n",
    "print('Running time: {} seconds'.format(elapsed))"
   ]
  },
  {
   "cell_type": "code",
   "execution_count": 49,
   "id": "f9f58524",
   "metadata": {},
   "outputs": [],
   "source": [
    "# 10th run "
   ]
  },
  {
   "cell_type": "code",
   "execution_count": 50,
   "id": "6fd41a28",
   "metadata": {},
   "outputs": [
    {
     "name": "stdout",
     "output_type": "stream",
     "text": [
      "QSVC classification train score: 1.0\n",
      "QSVC classification test score: 0.9166666666666666\n",
      "Running time: 18.786471000000006 seconds\n"
     ]
    }
   ],
   "source": [
    "s1 = data[data.Facies == 'SH'].sample(n=int(size/2))\n",
    "s2 = data[data.Facies == 'SS'].sample(n=int(size/2))\n",
    "\n",
    "sample = pd.concat([s1,s2])\n",
    "sample.sort_index(inplace=True)\n",
    "features = sample.iloc[:,:-1]\n",
    "target = sample.iloc[:,-1]\n",
    "f_f = MinMaxScaler().fit_transform(features)\n",
    "X_train, X_test, y_train, y_test = train_test_split(f_f, target, test_size = 0.3)\n",
    "feature_dimension = len(features.columns)\n",
    "\n",
    "feature_map = ZZFeatureMap(feature_dimension=feature_dimension,\n",
    "                                 reps=2,entanglement='full')\n",
    "\n",
    "backend = QuantumInstance(BasicAer.get_backend('qasm_simulator'), shots=500,\n",
    "                                seed_simulator=seed, seed_transpiler=seed)\n",
    "\n",
    "kernel = QuantumKernel(feature_map=feature_map, quantum_instance=backend)\n",
    "start_time = timeit.default_timer()\n",
    "qsvc = QSVC(quantum_kernel=kernel)\n",
    "qsvc.fit(X_train, y_train)\n",
    "y_pred = qsvc.predict(X_test)\n",
    "elapsed = timeit.default_timer() - start_time\n",
    "train_s = qsvc.score(X_train, y_train)\n",
    "qsvc_score = qsvc.score(X_test, y_test)\n",
    "train_scores.append(train_s)\n",
    "test_scores.append(qsvc_score)\n",
    "time.append(elapsed)\n",
    "print(f'QSVC classification train score: {train_s}')\n",
    "print(f'QSVC classification test score: {qsvc_score}')\n",
    "print('Running time: {} seconds'.format(elapsed))"
   ]
  },
  {
   "cell_type": "code",
   "execution_count": 51,
   "id": "d1bba03b",
   "metadata": {},
   "outputs": [
    {
     "name": "stdout",
     "output_type": "stream",
     "text": [
      "[1.0, 1.0, 0.9642857142857143, 0.9642857142857143, 0.9642857142857143, 1.0, 0.9642857142857143, 0.9642857142857143, 1.0, 1.0]\n",
      "[0.8333333333333334, 1.0, 0.9166666666666666, 0.9166666666666666, 0.8333333333333334, 0.9166666666666666, 0.6666666666666666, 1.0, 0.9166666666666666, 0.9166666666666666]\n"
     ]
    }
   ],
   "source": [
    "print(train_scores)\n",
    "print(test_scores)"
   ]
  }
 ],
 "metadata": {
  "kernelspec": {
   "display_name": "Python 3",
   "language": "python",
   "name": "python3"
  },
  "language_info": {
   "codemirror_mode": {
    "name": "ipython",
    "version": 3
   },
   "file_extension": ".py",
   "mimetype": "text/x-python",
   "name": "python",
   "nbconvert_exporter": "python",
   "pygments_lexer": "ipython3",
   "version": "3.8.8"
  }
 },
 "nbformat": 4,
 "nbformat_minor": 5
}
